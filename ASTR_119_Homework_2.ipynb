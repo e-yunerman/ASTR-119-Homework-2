{
 "cells": [
  {
   "cell_type": "code",
   "execution_count": null,
   "metadata": {},
   "outputs": [],
   "source": [
    "%matplotlib inline\n",
    "import numpy as np                   #importing the numpy package\n",
    "import matplotlib.pyplot as plt      #importing the matplotlib package to plot stuff"
   ]
  },
  {
   "cell_type": "code",
   "execution_count": null,
   "metadata": {},
   "outputs": [],
   "source": [
    "#pretty plot stuff\n",
    "#I use this to make changes to my plot\n",
    "plt.rcParams['figure.figsize'] = (8,6.5)           # changes my figure size with length 8 and width 6.5\n",
    "plt.rcParams['legend.frameon'] = True              # if True, legend will have a border\n",
    "plt.rcParams['legend.fontsize'] = 12               # legend fontsize is 12\n",
    "plt.rcParams['legend.borderpad'] = 0.5             # width of the border of the legend\n",
    "plt.rcParams[\"legend.framealpha\"] = 0.8            # changes how transparant the legend is.\n",
    "plt.rcParams['font.family'] = 'STIXGeneral'        # sets font\n",
    "plt.rcParams['font.size'] = 20                     #sets general font size"
   ]
  },
  {
   "cell_type": "code",
   "execution_count": null,
   "metadata": {},
   "outputs": [],
   "source": [
    "x = np.linspace(0, 2*np.pi, 1000)      # make an array starting at zero, ending at 2pi, with 1000 values"
   ]
  },
  {
   "cell_type": "code",
   "execution_count": null,
   "metadata": {},
   "outputs": [],
   "source": [
    "#Different y function\n",
    "y1 = 5.5 * np.cos(2*x) + 5.5                  # y(x) = 5.5cos(2x) + 5.5\n",
    "y2 = 0.02 * np.exp(x)                         # y(x) = 0.02e^x\n",
    "y3 = 0.25 * x**2 + 0.1 * np.sin(10**x)        # y(x) = 0.25x^2 + 0.1sin(10^x)"
   ]
  },
  {
   "cell_type": "code",
   "execution_count": null,
   "metadata": {},
   "outputs": [],
   "source": [
    "#plotting x array vs. each y function, choosing a color, labeling each line, and choosing the linewidth of each line\n",
    "plt.plot(x, y1, color = 'darkgreen', label = 'y(x) = 5.5cos(2x) + 5.5', lw = 0.9)\n",
    "plt.plot(x, y2, color = 'darkcyan', label = 'y(x) = 0.02e$^x$', lw = 0.9)\n",
    "plt.plot(x, y3, color = 'darkslateblue', label = 'y(x) = 0.25x$^2$ + 0.1sin(10$^x$)', lw = 0.9)\n",
    "\n",
    "plt.xlabel(\"Time in ASTR / EART 119\")            # sets x label\n",
    "plt.ylabel(\"Measures of Awesomeness\")            # sets y label\n",
    "plt.xlim(0, 2*np.pi)                             # sets x range\n",
    "plt.ylim(-1,10)                                  # sets y range\n",
    "plt.legend(loc = 'lower right')                  # puts the legend in the lower right corner and shows the legend\n",
    "plt.grid()                                       # draws a grid on the plot\n",
    "plt.show()                                       # displays figure"
   ]
  },
  {
   "cell_type": "code",
   "execution_count": null,
   "metadata": {},
   "outputs": [],
   "source": []
  }
 ],
 "metadata": {
  "kernelspec": {
   "display_name": "Python 3",
   "language": "python",
   "name": "python3"
  },
  "language_info": {
   "codemirror_mode": {
    "name": "ipython",
    "version": 3
   },
   "file_extension": ".py",
   "mimetype": "text/x-python",
   "name": "python",
   "nbconvert_exporter": "python",
   "pygments_lexer": "ipython3",
   "version": "3.6.4"
  }
 },
 "nbformat": 4,
 "nbformat_minor": 2
}
